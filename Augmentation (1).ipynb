{
 "cells": [
  {
   "cell_type": "code",
   "execution_count": 2,
   "id": "e61c0308",
   "metadata": {},
   "outputs": [],
   "source": [
    "from tensorflow.keras.utils import load_img\n",
    "from tensorflow.keras.utils import img_to_array\n",
    "from keras.preprocessing.image import ImageDataGenerator\n",
    "import os\n",
    "\n",
    "# Define the path to your original dataset\n",
    "original_dataset_path = \"D:\\\\nwforaug\"\n",
    "\n",
    "\n",
    "\n",
    "# Define the path to save your augmented dataset\n",
    "augmented_dataset_path = \"D:\\\\nwaugtd\"\n",
    "\n",
    "# Define the number of times to augment the dataset\n",
    "n_augmentations = 10\n",
    "\n",
    "# Define the image data generator with the desired augmentation parameters\n",
    "datagen = ImageDataGenerator(\n",
    "    rotation_range=20,\n",
    "    width_shift_range=0.1,\n",
    "    height_shift_range=0.1,\n",
    "    zoom_range=0.2,\n",
    "    horizontal_flip=True,\n",
    "    fill_mode='nearest')\n",
    "\n",
    "# Loop through each image in the original dataset and generate n_augmentations new images\n",
    "for filename in os.listdir(original_dataset_path):\n",
    "    # Load the original image\n",
    "    img = load_img(os.path.join(original_dataset_path, filename))\n",
    "    # Convert the image to a numpy array\n",
    "    x = img_to_array(img)\n",
    "    # Reshape the array to fit the ImageDataGenerator requirements\n",
    "    x = x.reshape((1,) + x.shape)\n",
    "    # Generate n_augmentations new images from the original image\n",
    "    i = 0\n",
    "    for batch in datagen.flow(x, batch_size=1, save_to_dir=augmented_dataset_path, save_prefix=filename[:-4], save_format='jpg'):\n",
    "        i += 1\n",
    "        if i >= n_augmentations:\n",
    "            break"
   ]
  },
  {
   "cell_type": "code",
   "execution_count": null,
   "id": "587d146f",
   "metadata": {},
   "outputs": [],
   "source": []
  }
 ],
 "metadata": {
  "kernelspec": {
   "display_name": "Python 3 (ipykernel)",
   "language": "python",
   "name": "python3"
  },
  "language_info": {
   "codemirror_mode": {
    "name": "ipython",
    "version": 3
   },
   "file_extension": ".py",
   "mimetype": "text/x-python",
   "name": "python",
   "nbconvert_exporter": "python",
   "pygments_lexer": "ipython3",
   "version": "3.9.13"
  }
 },
 "nbformat": 4,
 "nbformat_minor": 5
}
